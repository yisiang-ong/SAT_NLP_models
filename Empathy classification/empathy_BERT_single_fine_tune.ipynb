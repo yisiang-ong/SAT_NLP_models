{
 "cells": [
  {
   "cell_type": "code",
   "execution_count": 1,
   "metadata": {},
   "outputs": [],
   "source": [
    "#package imports \n",
    "\n",
    "import numpy as np\n",
    "import pandas as pd\n",
    "import seaborn as sn\n",
    "import matplotlib.pyplot as plt\n",
    "\n",
    "import torch\n",
    "from torch import nn\n",
    "from torch.utils.data import DataLoader, Dataset\n",
    "import torch.nn.functional as F\n",
    "import pytorch_lightning as pl\n",
    "\n",
    "from transformers import DistilBertTokenizer, AutoTokenizer, AutoModelWithLMHead, DistilBertForSequenceClassification, AdamW, get_linear_schedule_with_warmup\n",
    "\n",
    "from typing import List\n",
    "import logging\n",
    "import copy\n",
    "import os\n",
    "import sys\n",
    "import gc\n",
    "from functools import lru_cache\n",
    "from argparse import Namespace\n",
    "from packaging import version\n",
    "from tqdm.autonotebook import tqdm\n",
    "\n",
    "from sklearn.metrics import classification_report\n",
    "from sklearn.metrics import confusion_matrix\n",
    "from sklearn.model_selection import train_test_split"
   ]
  },
  {
   "cell_type": "code",
   "execution_count": 2,
   "metadata": {},
   "outputs": [],
   "source": [
    "import pandas as pd\n",
    "import numpy as np\n",
    "from tqdm.auto import tqdm\n",
    "import torch\n",
    "import torch.nn as nn\n",
    "from torch.utils.data import Dataset, DataLoader\n",
    "from transformers import BertTokenizerFast as BertTokenizer, BertModel, AdamW, get_linear_schedule_with_warmup\n",
    "import pytorch_lightning as pl\n",
    "from pytorch_lightning.callbacks import ModelCheckpoint, EarlyStopping\n",
    "from pytorch_lightning.loggers import TensorBoardLogger\n",
    "from sklearn.model_selection import train_test_split\n",
    "from sklearn.metrics import classification_report, multilabel_confusion_matrix\n",
    "import seaborn as sns\n",
    "from pylab import rcParams\n",
    "import matplotlib.pyplot as plt\n",
    "from matplotlib import rc"
   ]
  },
  {
   "cell_type": "code",
   "execution_count": 3,
   "metadata": {},
   "outputs": [],
   "source": [
    "# This notebook is partly adapted from the link below:\n",
    "# https://curiousily.com/posts/multi-label-text-classification-with-bert-and-pytorch-lightning/"
   ]
  },
  {
   "cell_type": "code",
   "execution_count": 4,
   "metadata": {},
   "outputs": [],
   "source": [
    "train_path = \"empathy_dataset/my_train.txt\"\n",
    "test_path = \"empathy_dataset/my_test.txt\"\n",
    "val_path = \"empathy_dataset/my_val.txt\""
   ]
  },
  {
   "cell_type": "code",
   "execution_count": 5,
   "metadata": {},
   "outputs": [
    {
     "name": "stdout",
     "output_type": "stream",
     "text": [
      "{'weak': 0, 'strong': 1}\n"
     ]
    }
   ],
   "source": [
    "#create a dictionary associating each string label to an integer value\n",
    "\n",
    "labels = [\"weak\", \"strong\"]\n",
    "label2int = dict(zip(labels, list(range(len(labels)))))\n",
    "print(label2int)"
   ]
  },
  {
   "cell_type": "markdown",
   "metadata": {},
   "source": [
    "## Now we build a classifier"
   ]
  },
  {
   "cell_type": "code",
   "execution_count": 6,
   "metadata": {},
   "outputs": [],
   "source": [
    "# We are going to use bert-base-uncased\n",
    "from transformers import AutoTokenizer, AutoModelForMaskedLM\n",
    "\n",
    "tokenizer = BertTokenizer.from_pretrained(\"bert-base-uncased\")"
   ]
  },
  {
   "cell_type": "code",
   "execution_count": 7,
   "metadata": {},
   "outputs": [
    {
     "data": {
      "text/html": [
       "<div>\n",
       "<style scoped>\n",
       "    .dataframe tbody tr th:only-of-type {\n",
       "        vertical-align: middle;\n",
       "    }\n",
       "\n",
       "    .dataframe tbody tr th {\n",
       "        vertical-align: top;\n",
       "    }\n",
       "\n",
       "    .dataframe thead th {\n",
       "        text-align: right;\n",
       "    }\n",
       "</style>\n",
       "<table border=\"1\" class=\"dataframe\">\n",
       "  <thead>\n",
       "    <tr style=\"text-align: right;\">\n",
       "      <th></th>\n",
       "      <th>text</th>\n",
       "      <th>class</th>\n",
       "    </tr>\n",
       "  </thead>\n",
       "  <tbody>\n",
       "    <tr>\n",
       "      <th>0</th>\n",
       "      <td>Why not try some of my suggestions of activiti...</td>\n",
       "      <td>weak</td>\n",
       "    </tr>\n",
       "    <tr>\n",
       "      <th>1</th>\n",
       "      <td>Everybody struggles to think of a creative dom...</td>\n",
       "      <td>strong</td>\n",
       "    </tr>\n",
       "    <tr>\n",
       "      <th>2</th>\n",
       "      <td>Can you think of a creative task you wish to t...</td>\n",
       "      <td>strong</td>\n",
       "    </tr>\n",
       "    <tr>\n",
       "      <th>3</th>\n",
       "      <td>Feel free to relax the muscles around your mou...</td>\n",
       "      <td>weak</td>\n",
       "    </tr>\n",
       "    <tr>\n",
       "      <th>4</th>\n",
       "      <td>Would you like to do another round? I don't me...</td>\n",
       "      <td>weak</td>\n",
       "    </tr>\n",
       "  </tbody>\n",
       "</table>\n",
       "</div>"
      ],
      "text/plain": [
       "                                                text   class\n",
       "0  Why not try some of my suggestions of activiti...    weak\n",
       "1  Everybody struggles to think of a creative dom...  strong\n",
       "2  Can you think of a creative task you wish to t...  strong\n",
       "3  Feel free to relax the muscles around your mou...    weak\n",
       "4  Would you like to do another round? I don't me...    weak"
      ]
     },
     "execution_count": 7,
     "metadata": {},
     "output_type": "execute_result"
    }
   ],
   "source": [
    "import pandas as pd\n",
    "data = pd.read_csv(\"empathy_dataset/my_train.txt\",sep=\";\", header=None)\n",
    "data.columns = [\"text\",\"class\"]\n",
    "data.head()"
   ]
  },
  {
   "cell_type": "code",
   "execution_count": 8,
   "metadata": {},
   "outputs": [
    {
     "data": {
      "text/plain": [
       "class\n",
       "strong    575\n",
       "weak      626\n",
       "dtype: int64"
      ]
     },
     "execution_count": 8,
     "metadata": {},
     "output_type": "execute_result"
    }
   ],
   "source": [
    "data.groupby('class').size()"
   ]
  },
  {
   "cell_type": "code",
   "execution_count": 9,
   "metadata": {},
   "outputs": [
    {
     "name": "stdout",
     "output_type": "stream",
     "text": [
      "I know it may seem difficult but try now this {protocol}. Believe in the new side you are about to discover, when you feel right, hit Continue to move on.\n"
     ]
    }
   ],
   "source": [
    "samele_row = data.iloc[5]\n",
    "sample_text = samele_row.text\n",
    "# sample_text = \"I have a few exercises in mind that you could really benefit from and bursh up on {a dichotomy} you may be a little hesitant and this is okay, you can trust me and yourself!\"\n",
    "print(sample_text)"
   ]
  },
  {
   "cell_type": "code",
   "execution_count": 10,
   "metadata": {},
   "outputs": [
    {
     "data": {
      "text/plain": [
       "(torch.Size([1, 512]), torch.Size([1, 512]))"
      ]
     },
     "execution_count": 10,
     "metadata": {},
     "output_type": "execute_result"
    }
   ],
   "source": [
    "encoding = tokenizer.encode_plus(\n",
    "    sample_text,\n",
    "    add_special_tokens=True,\n",
    "    max_length=512,\n",
    "    return_token_type_ids=False,\n",
    "    padding=\"max_length\",\n",
    "    return_attention_mask=True,\n",
    "    return_tensors='pt',\n",
    ")\n",
    "encoding.keys()\n",
    "encoding[\"input_ids\"].shape, encoding[\"attention_mask\"].shape\n",
    "# print(encoding[\"input_ids\"].cpu().detach().numpy())\n",
    "# tokenizer.decode(encoding[\"input_ids\"].cpu().detach().numpy()[0])"
   ]
  },
  {
   "cell_type": "code",
   "execution_count": 11,
   "metadata": {},
   "outputs": [
    {
     "name": "stdout",
     "output_type": "stream",
     "text": [
      "['[CLS]', 'i', 'know', 'it', 'may', 'seem', 'difficult', 'but', 'try', 'now', 'this', '{', 'protocol', '}', '.', 'believe', 'in', 'the', 'new', 'side']\n"
     ]
    }
   ],
   "source": [
    "encoding[\"input_ids\"].squeeze()[:20]\n",
    "print(tokenizer.convert_ids_to_tokens(encoding[\"input_ids\"].squeeze())[:20])"
   ]
  },
  {
   "cell_type": "code",
   "execution_count": 12,
   "metadata": {},
   "outputs": [
    {
     "data": {
      "text/plain": [
       "Text(0, 0.5, 'Sentence count')"
      ]
     },
     "execution_count": 12,
     "metadata": {},
     "output_type": "execute_result"
    },
    {
     "data": {
      "image/png": "[encoded data removed]",
      "text/plain": [
       "<Figure size 432x288 with 1 Axes>"
      ]
     },
     "metadata": {
      "needs_background": "light"
     },
     "output_type": "display_data"
    }
   ],
   "source": [
    "import seaborn as sns\n",
    "token_counts = []\n",
    "for _, row in data.iterrows():\n",
    "    token_count = len(tokenizer.encode(\n",
    "        row[\"text\"],\n",
    "        max_length=512,\n",
    "        truncation=True\n",
    "    ))\n",
    "    token_counts.append(token_count)\n",
    "sp1 = sns.histplot(token_counts)\n",
    "sp1.set_xlabel('Word count in a sentence')\n",
    "sp1.set_ylabel('Sentence count')"
   ]
  },
  {
   "cell_type": "code",
   "execution_count": 13,
   "metadata": {},
   "outputs": [],
   "source": [
    "MAX_TOKEN_COUNT = 100"
   ]
  },
  {
   "cell_type": "markdown",
   "metadata": {},
   "source": [
    "## Prepare the dataset"
   ]
  },
  {
   "cell_type": "code",
   "execution_count": 14,
   "metadata": {},
   "outputs": [],
   "source": [
    "class EmpathyDataset(Dataset):\n",
    "  def __init__(\n",
    "    self,\n",
    "    path,\n",
    "    tokenizer: BertTokenizer,\n",
    "    max_token_len: int = 100\n",
    "  ):\n",
    "    self.tokenizer = tokenizer\n",
    "    self.data_column = \"text\"\n",
    "    self.class_column = \"class\"\n",
    "    self.data = pd.read_csv(path, sep=\";\", header=None, names=[self.data_column, self.class_column],\n",
    "                            engine=\"python\")\n",
    "    \n",
    "    self.max_token_len = max_token_len\n",
    "  \n",
    "  def __len__(self):\n",
    "    return len(self.data)\n",
    "  \n",
    "  def __getitem__(self, index: int):\n",
    "    data_row = self.data.iloc[index]\n",
    "    text = data_row.text\n",
    "    labels = label2int[data_row[\"class\"]]\n",
    "    encoding = self.tokenizer.encode_plus(\n",
    "      text,\n",
    "      add_special_tokens=True,\n",
    "      max_length=self.max_token_len,\n",
    "      return_token_type_ids=False,\n",
    "      padding=\"max_length\",\n",
    "      truncation=True,\n",
    "      return_attention_mask=True,\n",
    "      return_tensors='pt',\n",
    "    )\n",
    "    return (encoding[\"input_ids\"].flatten(),encoding[\"attention_mask\"].flatten()), torch.tensor(labels)"
   ]
  },
  {
   "cell_type": "code",
   "execution_count": 15,
   "metadata": {},
   "outputs": [
    {
     "data": {
      "text/plain": [
       "((tensor([ 101, 1045, 2113, 2009, 2089, 4025, 3697, 2021, 3046, 2085, 2023, 1063,\n",
       "          8778, 1065, 1012, 2903, 1999, 1996, 2047, 2217, 2017, 2024, 2055, 2000,\n",
       "          7523, 1010, 2043, 2017, 2514, 2157, 1010, 2718, 3613, 2000, 2693, 2006,\n",
       "          1012,  102,    0,    0,    0,    0,    0,    0,    0,    0,    0,    0,\n",
       "             0,    0,    0,    0,    0,    0,    0,    0,    0,    0,    0,    0,\n",
       "             0,    0,    0,    0,    0,    0,    0,    0,    0,    0,    0,    0,\n",
       "             0,    0,    0,    0,    0,    0,    0,    0,    0,    0,    0,    0,\n",
       "             0,    0,    0,    0,    0,    0,    0,    0,    0,    0,    0,    0,\n",
       "             0,    0,    0,    0]),\n",
       "  tensor([1, 1, 1, 1, 1, 1, 1, 1, 1, 1, 1, 1, 1, 1, 1, 1, 1, 1, 1, 1, 1, 1, 1, 1,\n",
       "          1, 1, 1, 1, 1, 1, 1, 1, 1, 1, 1, 1, 1, 1, 0, 0, 0, 0, 0, 0, 0, 0, 0, 0,\n",
       "          0, 0, 0, 0, 0, 0, 0, 0, 0, 0, 0, 0, 0, 0, 0, 0, 0, 0, 0, 0, 0, 0, 0, 0,\n",
       "          0, 0, 0, 0, 0, 0, 0, 0, 0, 0, 0, 0, 0, 0, 0, 0, 0, 0, 0, 0, 0, 0, 0, 0,\n",
       "          0, 0, 0, 0])),\n",
       " tensor(0))"
      ]
     },
     "execution_count": 15,
     "metadata": {},
     "output_type": "execute_result"
    }
   ],
   "source": [
    "train_dataset = EmpathyDataset(\n",
    "    train_path,\n",
    "    tokenizer,\n",
    "    max_token_len=100\n",
    ")\n",
    "sample_item = train_dataset[5]\n",
    "sample_item"
   ]
  },
  {
   "cell_type": "code",
   "execution_count": 16,
   "metadata": {},
   "outputs": [
    {
     "data": {
      "text/plain": [
       "tensor(0)"
      ]
     },
     "execution_count": 16,
     "metadata": {},
     "output_type": "execute_result"
    }
   ],
   "source": [
    "sample_item[1]\n",
    "# sample_item[\"input_ids\"].shape"
   ]
  },
  {
   "cell_type": "code",
   "execution_count": 17,
   "metadata": {},
   "outputs": [
    {
     "name": "stderr",
     "output_type": "stream",
     "text": [
      "Some weights of the model checkpoint at bert-base-uncased were not used when initializing BertModel: ['cls.predictions.transform.dense.bias', 'cls.seq_relationship.bias', 'cls.predictions.transform.LayerNorm.weight', 'cls.predictions.decoder.weight', 'cls.predictions.bias', 'cls.seq_relationship.weight', 'cls.predictions.transform.LayerNorm.bias', 'cls.predictions.transform.dense.weight']\n",
      "- This IS expected if you are initializing BertModel from the checkpoint of a model trained on another task or with another architecture (e.g. initializing a BertForSequenceClassification model from a BertForPreTraining model).\n",
      "- This IS NOT expected if you are initializing BertModel from the checkpoint of a model that you expect to be exactly identical (initializing a BertForSequenceClassification model from a BertForSequenceClassification model).\n"
     ]
    }
   ],
   "source": [
    "bert_model = BertModel.from_pretrained(\"bert-base-uncased\")\n",
    "# model = AutoModelForMaskedLM.from_pretrained(\"bert-base-uncased\")"
   ]
  },
  {
   "cell_type": "code",
   "execution_count": 18,
   "metadata": {},
   "outputs": [
    {
     "data": {
      "text/plain": [
       "(torch.Size([16, 100]), torch.Size([16, 100]))"
      ]
     },
     "execution_count": 18,
     "metadata": {},
     "output_type": "execute_result"
    }
   ],
   "source": [
    "sample_batch = next(iter(DataLoader(train_dataset, batch_size=16)))\n",
    "sample_batch[0][0].shape, sample_batch[0][1].shape"
   ]
  },
  {
   "cell_type": "code",
   "execution_count": 19,
   "metadata": {},
   "outputs": [],
   "source": [
    "output = bert_model(sample_batch[0][0], sample_batch[0][1])"
   ]
  },
  {
   "cell_type": "code",
   "execution_count": 20,
   "metadata": {},
   "outputs": [
    {
     "data": {
      "text/plain": [
       "(torch.Size([16, 100, 768]), torch.Size([16, 768]))"
      ]
     },
     "execution_count": 20,
     "metadata": {},
     "output_type": "execute_result"
    }
   ],
   "source": [
    "# 768 dimension comes from the BERT hidden size\n",
    "output.last_hidden_state.shape, output.pooler_output.shape"
   ]
  },
  {
   "cell_type": "code",
   "execution_count": 21,
   "metadata": {},
   "outputs": [
    {
     "data": {
      "text/plain": [
       "BaseModelOutputWithPoolingAndCrossAttentions(last_hidden_state=tensor([[[ 0.0958, -0.2246, -0.0520,  ..., -0.1829,  0.2934,  0.6625],\n",
       "         [ 1.1400, -0.2461, -0.0313,  ..., -0.7879,  0.8866,  0.5441],\n",
       "         [ 0.4881, -0.9838, -0.1591,  ..., -0.0885,  0.2796,  0.2959],\n",
       "         ...,\n",
       "         [-0.0123, -0.2624,  0.2377,  ..., -0.2386, -0.1309,  0.1643],\n",
       "         [-0.1661, -0.3160,  0.0853,  ..., -0.3310, -0.1520,  0.3257],\n",
       "         [-0.0388,  0.0146,  0.2789,  ..., -0.4749,  0.0562,  0.4101]],\n",
       "\n",
       "        [[-0.2469, -0.3833, -0.1283,  ..., -0.2040,  0.4759,  0.6291],\n",
       "         [-0.2078,  0.7238, -0.2805,  ...,  0.2558,  0.6465,  0.5752],\n",
       "         [-0.4527,  0.9919,  0.6014,  ..., -0.0859, -0.1143,  0.2621],\n",
       "         ...,\n",
       "         [-0.3710, -0.7747,  0.0795,  ...,  0.2831,  0.2395, -0.0279],\n",
       "         [ 0.0336, -0.1207,  0.2034,  ...,  0.0973, -0.1647,  0.2645],\n",
       "         [ 0.2026,  0.1834,  0.1632,  ...,  0.5559, -0.0302,  0.5142]],\n",
       "\n",
       "        [[-0.0709, -0.2465, -0.2266,  ..., -0.3428,  0.2776,  0.5082],\n",
       "         [ 0.4718,  0.0395, -0.1676,  ...,  0.2162,  0.6435,  0.0138],\n",
       "         [-0.3174, -0.3842, -0.4098,  ...,  0.0708, -0.0773,  0.0545],\n",
       "         ...,\n",
       "         [ 0.1699, -0.2518,  0.0552,  ..., -0.2036, -0.2775,  0.0484],\n",
       "         [ 0.0596, -0.0859, -0.1703,  ..., -0.0703, -0.3317,  0.0440],\n",
       "         [ 0.0638, -0.0049, -0.2206,  ..., -0.0248, -0.2459,  0.0682]],\n",
       "\n",
       "        ...,\n",
       "\n",
       "        [[ 0.2943, -0.0107, -0.4570,  ..., -0.3446,  0.5176,  0.7287],\n",
       "         [ 0.2717,  0.4333, -0.9591,  ..., -0.0820,  0.7632,  0.2016],\n",
       "         [ 1.0779, -0.1208, -0.5333,  ..., -0.1500,  0.2538,  0.1065],\n",
       "         ...,\n",
       "         [ 0.2307, -0.0709,  0.4494,  ..., -0.0195,  0.1417,  0.7183],\n",
       "         [ 0.2053, -0.1241,  0.4912,  ..., -0.0635,  0.1317,  0.7627],\n",
       "         [ 0.1620, -0.0596,  0.2416,  ..., -0.1392,  0.1688,  0.4955]],\n",
       "\n",
       "        [[ 0.0890, -0.1669,  0.2883,  ..., -0.3077,  0.3897,  0.8646],\n",
       "         [ 0.2835,  0.1435, -0.2152,  ...,  0.4482,  0.6150, -0.5064],\n",
       "         [ 0.6735,  0.3592,  0.6024,  ...,  0.2979,  0.2639, -0.3278],\n",
       "         ...,\n",
       "         [ 0.0718, -0.0299,  0.5311,  ..., -0.1377,  0.1418,  0.3568],\n",
       "         [ 0.2571,  0.3978,  0.4041,  ..., -0.0649,  0.2550,  0.3840],\n",
       "         [ 0.1882, -0.2760,  0.6177,  ...,  0.2536,  0.0335,  0.0170]],\n",
       "\n",
       "        [[ 0.1601, -0.4670, -0.1117,  ..., -0.4368, -0.1205,  0.8617],\n",
       "         [ 0.2784,  0.3703, -0.4463,  ..., -0.0680,  0.4972, -0.0368],\n",
       "         [ 0.3873,  0.3672,  0.1675,  ...,  0.0398,  0.4556, -1.1365],\n",
       "         ...,\n",
       "         [ 0.3080, -0.3350,  0.3401,  ...,  0.0061,  0.2132, -0.1924],\n",
       "         [ 0.2436, -0.1344,  0.4347,  ...,  0.2793, -0.0401,  0.1700],\n",
       "         [ 0.4237,  0.1025,  0.1415,  ...,  0.2119, -0.2366,  0.5099]]],\n",
       "       grad_fn=<NativeLayerNormBackward>), pooler_output=tensor([[-0.7142, -0.3350, -0.8399,  ..., -0.6168, -0.6225,  0.7758],\n",
       "        [-0.6916, -0.4301, -0.9620,  ..., -0.9272, -0.6896,  0.5668],\n",
       "        [-0.8565, -0.3548, -0.8053,  ..., -0.7970, -0.7259,  0.8423],\n",
       "        ...,\n",
       "        [-0.8623, -0.5362, -0.9403,  ..., -0.9265, -0.7105,  0.7210],\n",
       "        [-0.8884, -0.3449, -0.8526,  ..., -0.6817, -0.6356,  0.9389],\n",
       "        [-0.8956, -0.4511, -0.9819,  ..., -0.9337, -0.7491,  0.7837]],\n",
       "       grad_fn=<TanhBackward>), hidden_states=None, past_key_values=None, attentions=None, cross_attentions=None)"
      ]
     },
     "execution_count": 21,
     "metadata": {},
     "output_type": "execute_result"
    }
   ],
   "source": [
    "output"
   ]
  },
  {
   "cell_type": "markdown",
   "metadata": {},
   "source": [
    "## define custom classifcation model for fine-tuning"
   ]
  },
  {
   "cell_type": "code",
   "execution_count": 22,
   "metadata": {},
   "outputs": [],
   "source": [
    "#using Mish activation function \n",
    "#(from https://github.com/digantamisra98/Mish/blob/b5f006660ac0b4c46e2c6958ad0301d7f9c59651/Mish/Torch/mish.py)\n",
    "@torch.jit.script\n",
    "def mish(input):\n",
    "    return input * torch.tanh(F.softplus(input))\n",
    "  \n",
    "class Mish(nn.Module):\n",
    "    def forward(self, input):\n",
    "        return mish(input)"
   ]
  },
  {
   "cell_type": "code",
   "execution_count": 23,
   "metadata": {},
   "outputs": [],
   "source": [
    "#define an EmpathyClassificationModel class to do the actual fine-tuning\n",
    "\n",
    "class EmpathyClassificationModel(nn.Module):\n",
    "    def __init__(self, base_model, n_classes, base_model_output_size=768, dropout=0.05):\n",
    "        super().__init__()\n",
    "        self.base_model = base_model\n",
    "        \n",
    "        self.classifier = nn.Sequential(\n",
    "            nn.Dropout(dropout),\n",
    "            nn.Linear(base_model_output_size, base_model_output_size),\n",
    "            Mish(),\n",
    "            nn.Dropout(dropout),\n",
    "            nn.Linear(base_model_output_size, n_classes)\n",
    "        )\n",
    "        \n",
    "        for layer in self.classifier:\n",
    "            if isinstance(layer, nn.Linear):\n",
    "                layer.weight.data.normal_(mean=0.0, std=0.02)\n",
    "                if layer.bias is not None:\n",
    "                    layer.bias.data.zero_()\n",
    "\n",
    "    def forward(self, input_ids, attention_mask, *args):\n",
    "\n",
    "        hidden_states = self.base_model(input_ids, attention_mask=attention_mask)\n",
    "        \n",
    "        return self.classifier(hidden_states[0][:, 0, :])"
   ]
  },
  {
   "cell_type": "markdown",
   "metadata": {},
   "source": [
    "## prepare lightning module"
   ]
  },
  {
   "cell_type": "code",
   "execution_count": 24,
   "metadata": {},
   "outputs": [],
   "source": [
    "#use PyTorch Lightning for training.\n",
    "#we use PyTorch Lighning for training. Lightning methods are defined here\n",
    "\n",
    "class TrainingModule(pl.LightningModule):\n",
    "    def __init__(self, hparams):\n",
    "        super().__init__()\n",
    "        self.model = EmpathyClassificationModel(BertModel.from_pretrained(\"bert-base-uncased\"), len(labels)) #was \"distilroberta-base\"\n",
    "        self.tokenizer = BertTokenizer.from_pretrained(\"bert-base-uncased\")\n",
    "        self.max_token_length = 128\n",
    "        self.loss = nn.CrossEntropyLoss() #cross entropy loss since this is multi-class classification\n",
    "        # self.save_hyperparameters(hparams)\n",
    "        self.hparams = hparams\n",
    "\n",
    "    def step(self, batch, step_name=\"train\"):\n",
    "        X, y = batch\n",
    "        # print(self.forward(input_ids=X[0], attention_mask = X[1]))\n",
    "        loss = self.loss(self.forward(input_ids=X[0], attention_mask = X[1]), y)\n",
    "        loss_key = f\"{step_name}_loss\"\n",
    "        tensorboard_logs = {loss_key: loss}\n",
    "\n",
    "        return { (\"loss\" if step_name == \"train\" else loss_key): loss, 'log': tensorboard_logs,\n",
    "               \"progress_bar\": {loss_key: loss}}\n",
    "\n",
    "    def forward(self, input_ids, attention_mask):\n",
    "        return self.model(input_ids, attention_mask)\n",
    "\n",
    "    def training_step(self, batch, batch_idx):\n",
    "        return self.step(batch, \"train\")\n",
    "\n",
    "    def validation_step(self, batch, batch_idx):\n",
    "        return self.step(batch, \"val\")\n",
    "\n",
    "    def validation_end(self, outputs: List[dict]):\n",
    "        \n",
    "        loss = torch.stack([x[\"val_loss\"] for x in outputs]).mean()\n",
    "\n",
    "        return {\"val_loss\": loss}\n",
    "        \n",
    "    def test_step(self, batch, batch_idx):\n",
    "        return self.step(batch, \"test\")\n",
    "    \n",
    "    def train_dataloader(self):\n",
    "        return self.create_data_loader(self.hparams.train_path, shuffle=True)\n",
    "\n",
    "    def val_dataloader(self):\n",
    "        return self.create_data_loader(self.hparams.val_path)\n",
    "\n",
    "    def test_dataloader(self):\n",
    "        return self.create_data_loader(self.hparams.test_path)\n",
    "                \n",
    "    def create_data_loader(self, ds_path: str, shuffle=False):\n",
    "        return DataLoader(\n",
    "                    EmpathyDataset(ds_path, self.tokenizer, self.max_token_length),\n",
    "                    batch_size=self.hparams.batch_size,\n",
    "                    shuffle=shuffle,\n",
    "        )\n",
    "        \n",
    "    @lru_cache()\n",
    "    def total_steps(self):\n",
    "        return len(self.train_dataloader()) // self.hparams.accumulate_grad_batches * self.hparams.epochs\n",
    "\n",
    "    def configure_optimizers(self):\n",
    "        optimizer = AdamW(self.model.parameters(), lr=self.hparams.lr) #we use AdamW as this usually performs well\n",
    "        lr_scheduler = get_linear_schedule_with_warmup(\n",
    "                    optimizer,\n",
    "                    num_warmup_steps=self.hparams.warmup_steps,\n",
    "                    num_training_steps=self.total_steps(),\n",
    "        )\n",
    "        return [optimizer], [{\"scheduler\": lr_scheduler, \"interval\": \"step\"}]\n",
    "   \n",
    "    def save_model(self, version):\n",
    "        torch.save(self.model.state_dict(), f'empathy_model/BERT_empathy_1ft_{version}.pt')"
   ]
  },
  {
   "cell_type": "markdown",
   "metadata": {},
   "source": [
    "## begin training"
   ]
  },
  {
   "cell_type": "code",
   "execution_count": 25,
   "metadata": {},
   "outputs": [
    {
     "name": "stderr",
     "output_type": "stream",
     "text": [
      "Some weights of the model checkpoint at bert-base-uncased were not used when initializing BertModel: ['cls.predictions.transform.dense.bias', 'cls.seq_relationship.bias', 'cls.predictions.transform.LayerNorm.weight', 'cls.predictions.decoder.weight', 'cls.predictions.bias', 'cls.seq_relationship.weight', 'cls.predictions.transform.LayerNorm.bias', 'cls.predictions.transform.dense.weight']\n",
      "- This IS expected if you are initializing BertModel from the checkpoint of a model trained on another task or with another architecture (e.g. initializing a BertForSequenceClassification model from a BertForPreTraining model).\n",
      "- This IS NOT expected if you are initializing BertModel from the checkpoint of a model that you expect to be exactly identical (initializing a BertForSequenceClassification model from a BertForSequenceClassification model).\n"
     ]
    }
   ],
   "source": [
    "hparams = Namespace(\n",
    "    train_path=train_path,\n",
    "    val_path=val_path,\n",
    "    test_path=test_path,\n",
    "    batch_size=20,\n",
    "    warmup_steps=100,\n",
    "    epochs=50,\n",
    "    lr=2E-06,\n",
    "    accumulate_grad_batches=1\n",
    ")\n",
    "module = TrainingModule(hparams)\n",
    "#rubbish collection\n",
    "gc.collect()\n",
    "torch.cuda.empty_cache()"
   ]
  },
  {
   "cell_type": "code",
   "execution_count": 26,
   "metadata": {},
   "outputs": [],
   "source": [
    "from pytorch_lightning.callbacks import EarlyStopping\n",
    "early_stop_callback = EarlyStopping(\n",
    "    monitor=\"val_loss\",  # monitor validation loss\n",
    "    min_delta=0.001, #to very small change in the monitored quantity to qualify as an improvement\n",
    "    patience=20, # used to check number of time with no improvement after which training will be stopped\n",
    "    verbose=False, \n",
    "    mode=\"min\" #sed while training will stopped when the quantity monitor has stopped decreasing\n",
    "    )"
   ]
  },
  {
   "cell_type": "code",
   "execution_count": 27,
   "metadata": {},
   "outputs": [
    {
     "name": "stderr",
     "output_type": "stream",
     "text": [
      "INFO:lightning:GPU available: True, used: True\n",
      "INFO:lightning:CUDA_VISIBLE_DEVICES: [0]\n",
      "c:\\Users\\yisiang\\AppData\\Local\\Programs\\Python\\Python39\\lib\\site-packages\\pytorch_lightning\\utilities\\distributed.py:23: RuntimeWarning: You have defined a `val_dataloader()` and have defined a `validation_step()`, you may also want to define `validation_epoch_end()` for accumulating stats.\n",
      "  warnings.warn(*args, **kwargs)\n",
      "c:\\Users\\yisiang\\AppData\\Local\\Programs\\Python\\Python39\\lib\\site-packages\\pytorch_lightning\\utilities\\distributed.py:23: RuntimeWarning: You have defined a `test_dataloader()` and have defined a `test_step()`, you may also want to define `test_epoch_end()` for accumulating stats.\n",
      "  warnings.warn(*args, **kwargs)\n",
      "c:\\Users\\yisiang\\AppData\\Local\\Programs\\Python\\Python39\\lib\\site-packages\\transformers\\optimization.py:306: FutureWarning: This implementation of AdamW is deprecated and will be removed in a future version. Use the PyTorch implementation torch.optim.AdamW instead, or set `no_deprecation_warning=True` to disable this warning\n",
      "  warnings.warn(\n",
      "INFO:lightning:\n",
      "    | Name                                                              | Type                       | Params\n",
      "-------------------------------------------------------------------------------------------------------------\n",
      "0   | model                                                             | EmpathyClassificationModel | 110 M \n",
      "1   | model.base_model                                                  | BertModel                  | 109 M \n",
      "2   | model.base_model.embeddings                                       | BertEmbeddings             | 23 M  \n",
      "3   | model.base_model.embeddings.word_embeddings                       | Embedding                  | 23 M  \n",
      "4   | model.base_model.embeddings.position_embeddings                   | Embedding                  | 393 K \n",
      "5   | model.base_model.embeddings.token_type_embeddings                 | Embedding                  | 1 K   \n",
      "6   | model.base_model.embeddings.LayerNorm                             | LayerNorm                  | 1 K   \n",
      "7   | model.base_model.embeddings.dropout                               | Dropout                    | 0     \n",
      "8   | model.base_model.encoder                                          | BertEncoder                | 85 M  \n",
      "9   | model.base_model.encoder.layer                                    | ModuleList                 | 85 M  \n",
      "10  | model.base_model.encoder.layer.0                                  | BertLayer                  | 7 M   \n",
      "11  | model.base_model.encoder.layer.0.attention                        | BertAttention              | 2 M   \n",
      "12  | model.base_model.encoder.layer.0.attention.self                   | BertSelfAttention          | 1 M   \n",
      "13  | model.base_model.encoder.layer.0.attention.self.query             | Linear                     | 590 K \n",
      "14  | model.base_model.encoder.layer.0.attention.self.key               | Linear                     | 590 K \n",
      "15  | model.base_model.encoder.layer.0.attention.self.value             | Linear                     | 590 K \n",
      "16  | model.base_model.encoder.layer.0.attention.self.dropout           | Dropout                    | 0     \n",
      "17  | model.base_model.encoder.layer.0.attention.output                 | BertSelfOutput             | 592 K \n",
      "18  | model.base_model.encoder.layer.0.attention.output.dense           | Linear                     | 590 K \n",
      "19  | model.base_model.encoder.layer.0.attention.output.LayerNorm       | LayerNorm                  | 1 K   \n",
      "20  | model.base_model.encoder.layer.0.attention.output.dropout         | Dropout                    | 0     \n",
      "21  | model.base_model.encoder.layer.0.intermediate                     | BertIntermediate           | 2 M   \n",
      "22  | model.base_model.encoder.layer.0.intermediate.dense               | Linear                     | 2 M   \n",
      "23  | model.base_model.encoder.layer.0.intermediate.intermediate_act_fn | GELUActivation             | 0     \n",
      "24  | model.base_model.encoder.layer.0.output                           | BertOutput                 | 2 M   \n",
      "25  | model.base_model.encoder.layer.0.output.dense                     | Linear                     | 2 M   \n",
      "26  | model.base_model.encoder.layer.0.output.LayerNorm                 | LayerNorm                  | 1 K   \n",
      "27  | model.base_model.encoder.layer.0.output.dropout                   | Dropout                    | 0     \n",
      "28  | model.base_model.encoder.layer.1                                  | BertLayer                  | 7 M   \n",
      "29  | model.base_model.encoder.layer.1.attention                        | BertAttention              | 2 M   \n",
      "30  | model.base_model.encoder.layer.1.attention.self                   | BertSelfAttention          | 1 M   \n",
      "31  | model.base_model.encoder.layer.1.attention.self.query             | Linear                     | 590 K \n",
      "32  | model.base_model.encoder.layer.1.attention.self.key               | Linear                     | 590 K \n",
      "33  | model.base_model.encoder.layer.1.attention.self.value             | Linear                     | 590 K \n",
      "34  | model.base_model.encoder.layer.1.attention.self.dropout           | Dropout                    | 0     \n",
      "35  | model.base_model.encoder.layer.1.attention.output                 | BertSelfOutput             | 592 K \n",
      "36  | model.base_model.encoder.layer.1.attention.output.dense           | Linear                     | 590 K \n",
      "37  | model.base_model.encoder.layer.1.attention.output.LayerNorm       | LayerNorm                  | 1 K   \n",
      "38  | model.base_model.encoder.layer.1.attention.output.dropout         | Dropout                    | 0     \n",
      "39  | model.base_model.encoder.layer.1.intermediate                     | BertIntermediate           | 2 M   \n",
      "40  | model.base_model.encoder.layer.1.intermediate.dense               | Linear                     | 2 M   \n",
      "41  | model.base_model.encoder.layer.1.output                           | BertOutput                 | 2 M   \n",
      "42  | model.base_model.encoder.layer.1.output.dense                     | Linear                     | 2 M   \n",
      "43  | model.base_model.encoder.layer.1.output.LayerNorm                 | LayerNorm                  | 1 K   \n",
      "44  | model.base_model.encoder.layer.1.output.dropout                   | Dropout                    | 0     \n",
      "45  | model.base_model.encoder.layer.2                                  | BertLayer                  | 7 M   \n",
      "46  | model.base_model.encoder.layer.2.attention                        | BertAttention              | 2 M   \n",
      "47  | model.base_model.encoder.layer.2.attention.self                   | BertSelfAttention          | 1 M   \n",
      "48  | model.base_model.encoder.layer.2.attention.self.query             | Linear                     | 590 K \n",
      "49  | model.base_model.encoder.layer.2.attention.self.key               | Linear                     | 590 K \n",
      "50  | model.base_model.encoder.layer.2.attention.self.value             | Linear                     | 590 K \n",
      "51  | model.base_model.encoder.layer.2.attention.self.dropout           | Dropout                    | 0     \n",
      "52  | model.base_model.encoder.layer.2.attention.output                 | BertSelfOutput             | 592 K \n",
      "53  | model.base_model.encoder.layer.2.attention.output.dense           | Linear                     | 590 K \n",
      "54  | model.base_model.encoder.layer.2.attention.output.LayerNorm       | LayerNorm                  | 1 K   \n",
      "55  | model.base_model.encoder.layer.2.attention.output.dropout         | Dropout                    | 0     \n",
      "56  | model.base_model.encoder.layer.2.intermediate                     | BertIntermediate           | 2 M   \n",
      "57  | model.base_model.encoder.layer.2.intermediate.dense               | Linear                     | 2 M   \n",
      "58  | model.base_model.encoder.layer.2.output                           | BertOutput                 | 2 M   \n",
      "59  | model.base_model.encoder.layer.2.output.dense                     | Linear                     | 2 M   \n",
      "60  | model.base_model.encoder.layer.2.output.LayerNorm                 | LayerNorm                  | 1 K   \n",
      "61  | model.base_model.encoder.layer.2.output.dropout                   | Dropout                    | 0     \n",
      "62  | model.base_model.encoder.layer.3                                  | BertLayer                  | 7 M   \n",
      "63  | model.base_model.encoder.layer.3.attention                        | BertAttention              | 2 M   \n",
      "64  | model.base_model.encoder.layer.3.attention.self                   | BertSelfAttention          | 1 M   \n",
      "65  | model.base_model.encoder.layer.3.attention.self.query             | Linear                     | 590 K \n",
      "66  | model.base_model.encoder.layer.3.attention.self.key               | Linear                     | 590 K \n",
      "67  | model.base_model.encoder.layer.3.attention.self.value             | Linear                     | 590 K \n",
      "68  | model.base_model.encoder.layer.3.attention.self.dropout           | Dropout                    | 0     \n",
      "69  | model.base_model.encoder.layer.3.attention.output                 | BertSelfOutput             | 592 K \n",
      "70  | model.base_model.encoder.layer.3.attention.output.dense           | Linear                     | 590 K \n",
      "71  | model.base_model.encoder.layer.3.attention.output.LayerNorm       | LayerNorm                  | 1 K   \n",
      "72  | model.base_model.encoder.layer.3.attention.output.dropout         | Dropout                    | 0     \n",
      "73  | model.base_model.encoder.layer.3.intermediate                     | BertIntermediate           | 2 M   \n",
      "74  | model.base_model.encoder.layer.3.intermediate.dense               | Linear                     | 2 M   \n",
      "75  | model.base_model.encoder.layer.3.output                           | BertOutput                 | 2 M   \n",
      "76  | model.base_model.encoder.layer.3.output.dense                     | Linear                     | 2 M   \n",
      "77  | model.base_model.encoder.layer.3.output.LayerNorm                 | LayerNorm                  | 1 K   \n",
      "78  | model.base_model.encoder.layer.3.output.dropout                   | Dropout                    | 0     \n",
      "79  | model.base_model.encoder.layer.4                                  | BertLayer                  | 7 M   \n",
      "80  | model.base_model.encoder.layer.4.attention                        | BertAttention              | 2 M   \n",
      "81  | model.base_model.encoder.layer.4.attention.self                   | BertSelfAttention          | 1 M   \n",
      "82  | model.base_model.encoder.layer.4.attention.self.query             | Linear                     | 590 K \n",
      "83  | model.base_model.encoder.layer.4.attention.self.key               | Linear                     | 590 K \n",
      "84  | model.base_model.encoder.layer.4.attention.self.value             | Linear                     | 590 K \n",
      "85  | model.base_model.encoder.layer.4.attention.self.dropout           | Dropout                    | 0     \n",
      "86  | model.base_model.encoder.layer.4.attention.output                 | BertSelfOutput             | 592 K \n",
      "87  | model.base_model.encoder.layer.4.attention.output.dense           | Linear                     | 590 K \n",
      "88  | model.base_model.encoder.layer.4.attention.output.LayerNorm       | LayerNorm                  | 1 K   \n",
      "89  | model.base_model.encoder.layer.4.attention.output.dropout         | Dropout                    | 0     \n",
      "90  | model.base_model.encoder.layer.4.intermediate                     | BertIntermediate           | 2 M   \n",
      "91  | model.base_model.encoder.layer.4.intermediate.dense               | Linear                     | 2 M   \n",
      "92  | model.base_model.encoder.layer.4.output                           | BertOutput                 | 2 M   \n",
      "93  | model.base_model.encoder.layer.4.output.dense                     | Linear                     | 2 M   \n",
      "94  | model.base_model.encoder.layer.4.output.LayerNorm                 | LayerNorm                  | 1 K   \n",
      "95  | model.base_model.encoder.layer.4.output.dropout                   | Dropout                    | 0     \n",
      "96  | model.base_model.encoder.layer.5                                  | BertLayer                  | 7 M   \n",
      "97  | model.base_model.encoder.layer.5.attention                        | BertAttention              | 2 M   \n",
      "98  | model.base_model.encoder.layer.5.attention.self                   | BertSelfAttention          | 1 M   \n",
      "99  | model.base_model.encoder.layer.5.attention.self.query             | Linear                     | 590 K \n",
      "100 | model.base_model.encoder.layer.5.attention.self.key               | Linear                     | 590 K \n",
      "101 | model.base_model.encoder.layer.5.attention.self.value             | Linear                     | 590 K \n",
      "102 | model.base_model.encoder.layer.5.attention.self.dropout           | Dropout                    | 0     \n",
      "103 | model.base_model.encoder.layer.5.attention.output                 | BertSelfOutput             | 592 K \n",
      "104 | model.base_model.encoder.layer.5.attention.output.dense           | Linear                     | 590 K \n",
      "105 | model.base_model.encoder.layer.5.attention.output.LayerNorm       | LayerNorm                  | 1 K   \n",
      "106 | model.base_model.encoder.layer.5.attention.output.dropout         | Dropout                    | 0     \n",
      "107 | model.base_model.encoder.layer.5.intermediate                     | BertIntermediate           | 2 M   \n",
      "108 | model.base_model.encoder.layer.5.intermediate.dense               | Linear                     | 2 M   \n",
      "109 | model.base_model.encoder.layer.5.output                           | BertOutput                 | 2 M   \n",
      "110 | model.base_model.encoder.layer.5.output.dense                     | Linear                     | 2 M   \n",
      "111 | model.base_model.encoder.layer.5.output.LayerNorm                 | LayerNorm                  | 1 K   \n",
      "112 | model.base_model.encoder.layer.5.output.dropout                   | Dropout                    | 0     \n",
      "113 | model.base_model.encoder.layer.6                                  | BertLayer                  | 7 M   \n",
      "114 | model.base_model.encoder.layer.6.attention                        | BertAttention              | 2 M   \n",
      "115 | model.base_model.encoder.layer.6.attention.self                   | BertSelfAttention          | 1 M   \n",
      "116 | model.base_model.encoder.layer.6.attention.self.query             | Linear                     | 590 K \n",
      "117 | model.base_model.encoder.layer.6.attention.self.key               | Linear                     | 590 K \n",
      "118 | model.base_model.encoder.layer.6.attention.self.value             | Linear                     | 590 K \n",
      "119 | model.base_model.encoder.layer.6.attention.self.dropout           | Dropout                    | 0     \n",
      "120 | model.base_model.encoder.layer.6.attention.output                 | BertSelfOutput             | 592 K \n",
      "121 | model.base_model.encoder.layer.6.attention.output.dense           | Linear                     | 590 K \n",
      "122 | model.base_model.encoder.layer.6.attention.output.LayerNorm       | LayerNorm                  | 1 K   \n",
      "123 | model.base_model.encoder.layer.6.attention.output.dropout         | Dropout                    | 0     \n",
      "124 | model.base_model.encoder.layer.6.intermediate                     | BertIntermediate           | 2 M   \n",
      "125 | model.base_model.encoder.layer.6.intermediate.dense               | Linear                     | 2 M   \n",
      "126 | model.base_model.encoder.layer.6.output                           | BertOutput                 | 2 M   \n",
      "127 | model.base_model.encoder.layer.6.output.dense                     | Linear                     | 2 M   \n",
      "128 | model.base_model.encoder.layer.6.output.LayerNorm                 | LayerNorm                  | 1 K   \n",
      "129 | model.base_model.encoder.layer.6.output.dropout                   | Dropout                    | 0     \n",
      "130 | model.base_model.encoder.layer.7                                  | BertLayer                  | 7 M   \n",
      "131 | model.base_model.encoder.layer.7.attention                        | BertAttention              | 2 M   \n",
      "132 | model.base_model.encoder.layer.7.attention.self                   | BertSelfAttention          | 1 M   \n",
      "133 | model.base_model.encoder.layer.7.attention.self.query             | Linear                     | 590 K \n",
      "134 | model.base_model.encoder.layer.7.attention.self.key               | Linear                     | 590 K \n",
      "135 | model.base_model.encoder.layer.7.attention.self.value             | Linear                     | 590 K \n",
      "136 | model.base_model.encoder.layer.7.attention.self.dropout           | Dropout                    | 0     \n",
      "137 | model.base_model.encoder.layer.7.attention.output                 | BertSelfOutput             | 592 K \n",
      "138 | model.base_model.encoder.layer.7.attention.output.dense           | Linear                     | 590 K \n",
      "139 | model.base_model.encoder.layer.7.attention.output.LayerNorm       | LayerNorm                  | 1 K   \n",
      "140 | model.base_model.encoder.layer.7.attention.output.dropout         | Dropout                    | 0     \n",
      "141 | model.base_model.encoder.layer.7.intermediate                     | BertIntermediate           | 2 M   \n",
      "142 | model.base_model.encoder.layer.7.intermediate.dense               | Linear                     | 2 M   \n",
      "143 | model.base_model.encoder.layer.7.output                           | BertOutput                 | 2 M   \n",
      "144 | model.base_model.encoder.layer.7.output.dense                     | Linear                     | 2 M   \n",
      "145 | model.base_model.encoder.layer.7.output.LayerNorm                 | LayerNorm                  | 1 K   \n",
      "146 | model.base_model.encoder.layer.7.output.dropout                   | Dropout                    | 0     \n",
      "147 | model.base_model.encoder.layer.8                                  | BertLayer                  | 7 M   \n",
      "148 | model.base_model.encoder.layer.8.attention                        | BertAttention              | 2 M   \n",
      "149 | model.base_model.encoder.layer.8.attention.self                   | BertSelfAttention          | 1 M   \n",
      "150 | model.base_model.encoder.layer.8.attention.self.query             | Linear                     | 590 K \n",
      "151 | model.base_model.encoder.layer.8.attention.self.key               | Linear                     | 590 K \n",
      "152 | model.base_model.encoder.layer.8.attention.self.value             | Linear                     | 590 K \n",
      "153 | model.base_model.encoder.layer.8.attention.self.dropout           | Dropout                    | 0     \n",
      "154 | model.base_model.encoder.layer.8.attention.output                 | BertSelfOutput             | 592 K \n",
      "155 | model.base_model.encoder.layer.8.attention.output.dense           | Linear                     | 590 K \n",
      "156 | model.base_model.encoder.layer.8.attention.output.LayerNorm       | LayerNorm                  | 1 K   \n",
      "157 | model.base_model.encoder.layer.8.attention.output.dropout         | Dropout                    | 0     \n",
      "158 | model.base_model.encoder.layer.8.intermediate                     | BertIntermediate           | 2 M   \n",
      "159 | model.base_model.encoder.layer.8.intermediate.dense               | Linear                     | 2 M   \n",
      "160 | model.base_model.encoder.layer.8.output                           | BertOutput                 | 2 M   \n",
      "161 | model.base_model.encoder.layer.8.output.dense                     | Linear                     | 2 M   \n",
      "162 | model.base_model.encoder.layer.8.output.LayerNorm                 | LayerNorm                  | 1 K   \n",
      "163 | model.base_model.encoder.layer.8.output.dropout                   | Dropout                    | 0     \n",
      "164 | model.base_model.encoder.layer.9                                  | BertLayer                  | 7 M   \n",
      "165 | model.base_model.encoder.layer.9.attention                        | BertAttention              | 2 M   \n",
      "166 | model.base_model.encoder.layer.9.attention.self                   | BertSelfAttention          | 1 M   \n",
      "167 | model.base_model.encoder.layer.9.attention.self.query             | Linear                     | 590 K \n",
      "168 | model.base_model.encoder.layer.9.attention.self.key               | Linear                     | 590 K \n",
      "169 | model.base_model.encoder.layer.9.attention.self.value             | Linear                     | 590 K \n",
      "170 | model.base_model.encoder.layer.9.attention.self.dropout           | Dropout                    | 0     \n",
      "171 | model.base_model.encoder.layer.9.attention.output                 | BertSelfOutput             | 592 K \n",
      "172 | model.base_model.encoder.layer.9.attention.output.dense           | Linear                     | 590 K \n",
      "173 | model.base_model.encoder.layer.9.attention.output.LayerNorm       | LayerNorm                  | 1 K   \n",
      "174 | model.base_model.encoder.layer.9.attention.output.dropout         | Dropout                    | 0     \n",
      "175 | model.base_model.encoder.layer.9.intermediate                     | BertIntermediate           | 2 M   \n",
      "176 | model.base_model.encoder.layer.9.intermediate.dense               | Linear                     | 2 M   \n",
      "177 | model.base_model.encoder.layer.9.output                           | BertOutput                 | 2 M   \n",
      "178 | model.base_model.encoder.layer.9.output.dense                     | Linear                     | 2 M   \n",
      "179 | model.base_model.encoder.layer.9.output.LayerNorm                 | LayerNorm                  | 1 K   \n",
      "180 | model.base_model.encoder.layer.9.output.dropout                   | Dropout                    | 0     \n",
      "181 | model.base_model.encoder.layer.10                                 | BertLayer                  | 7 M   \n",
      "182 | model.base_model.encoder.layer.10.attention                       | BertAttention              | 2 M   \n",
      "183 | model.base_model.encoder.layer.10.attention.self                  | BertSelfAttention          | 1 M   \n",
      "184 | model.base_model.encoder.layer.10.attention.self.query            | Linear                     | 590 K \n",
      "185 | model.base_model.encoder.layer.10.attention.self.key              | Linear                     | 590 K \n",
      "186 | model.base_model.encoder.layer.10.attention.self.value            | Linear                     | 590 K \n",
      "187 | model.base_model.encoder.layer.10.attention.self.dropout          | Dropout                    | 0     \n",
      "188 | model.base_model.encoder.layer.10.attention.output                | BertSelfOutput             | 592 K \n",
      "189 | model.base_model.encoder.layer.10.attention.output.dense          | Linear                     | 590 K \n",
      "190 | model.base_model.encoder.layer.10.attention.output.LayerNorm      | LayerNorm                  | 1 K   \n",
      "191 | model.base_model.encoder.layer.10.attention.output.dropout        | Dropout                    | 0     \n",
      "192 | model.base_model.encoder.layer.10.intermediate                    | BertIntermediate           | 2 M   \n",
      "193 | model.base_model.encoder.layer.10.intermediate.dense              | Linear                     | 2 M   \n",
      "194 | model.base_model.encoder.layer.10.output                          | BertOutput                 | 2 M   \n",
      "195 | model.base_model.encoder.layer.10.output.dense                    | Linear                     | 2 M   \n",
      "196 | model.base_model.encoder.layer.10.output.LayerNorm                | LayerNorm                  | 1 K   \n",
      "197 | model.base_model.encoder.layer.10.output.dropout                  | Dropout                    | 0     \n",
      "198 | model.base_model.encoder.layer.11                                 | BertLayer                  | 7 M   \n",
      "199 | model.base_model.encoder.layer.11.attention                       | BertAttention              | 2 M   \n",
      "200 | model.base_model.encoder.layer.11.attention.self                  | BertSelfAttention          | 1 M   \n",
      "201 | model.base_model.encoder.layer.11.attention.self.query            | Linear                     | 590 K \n",
      "202 | model.base_model.encoder.layer.11.attention.self.key              | Linear                     | 590 K \n",
      "203 | model.base_model.encoder.layer.11.attention.self.value            | Linear                     | 590 K \n",
      "204 | model.base_model.encoder.layer.11.attention.self.dropout          | Dropout                    | 0     \n",
      "205 | model.base_model.encoder.layer.11.attention.output                | BertSelfOutput             | 592 K \n",
      "206 | model.base_model.encoder.layer.11.attention.output.dense          | Linear                     | 590 K \n",
      "207 | model.base_model.encoder.layer.11.attention.output.LayerNorm      | LayerNorm                  | 1 K   \n",
      "208 | model.base_model.encoder.layer.11.attention.output.dropout        | Dropout                    | 0     \n",
      "209 | model.base_model.encoder.layer.11.intermediate                    | BertIntermediate           | 2 M   \n",
      "210 | model.base_model.encoder.layer.11.intermediate.dense              | Linear                     | 2 M   \n",
      "211 | model.base_model.encoder.layer.11.output                          | BertOutput                 | 2 M   \n",
      "212 | model.base_model.encoder.layer.11.output.dense                    | Linear                     | 2 M   \n",
      "213 | model.base_model.encoder.layer.11.output.LayerNorm                | LayerNorm                  | 1 K   \n",
      "214 | model.base_model.encoder.layer.11.output.dropout                  | Dropout                    | 0     \n",
      "215 | model.base_model.pooler                                           | BertPooler                 | 590 K \n",
      "216 | model.base_model.pooler.dense                                     | Linear                     | 590 K \n",
      "217 | model.base_model.pooler.activation                                | Tanh                       | 0     \n",
      "218 | model.classifier                                                  | Sequential                 | 592 K \n",
      "219 | model.classifier.0                                                | Dropout                    | 0     \n",
      "220 | model.classifier.1                                                | Linear                     | 590 K \n",
      "221 | model.classifier.2                                                | Mish                       | 0     \n",
      "222 | model.classifier.3                                                | Dropout                    | 0     \n",
      "223 | model.classifier.4                                                | Linear                     | 1 K   \n",
      "224 | loss                                                              | CrossEntropyLoss           | 0     \n"
     ]
    },
    {
     "name": "stdout",
     "output_type": "stream",
     "text": [
      "Epoch 23:  87%|████████▋ | 60/69 [00:12<00:01,  4.74it/s, loss=0.198, train_loss=0.0294, v_num=113]\n"
     ]
    },
    {
     "data": {
      "text/plain": [
       "1"
      ]
     },
     "execution_count": 27,
     "metadata": {},
     "output_type": "execute_result"
    }
   ],
   "source": [
    "#train (using cuda)\n",
    "trainer = pl.Trainer(gpus=1, max_epochs=hparams.epochs, progress_bar_refresh_rate=10,\n",
    "                     accumulate_grad_batches=hparams.accumulate_grad_batches,\n",
    "                     early_stop_callback=early_stop_callback)\n",
    "\n",
    "trainer.fit(module)"
   ]
  },
  {
   "cell_type": "code",
   "execution_count": 28,
   "metadata": {},
   "outputs": [
    {
     "name": "stdout",
     "output_type": "stream",
     "text": [
      "|\n",
      "________________________________________________________________________________\n",
      "              precision    recall  f1-score   support\n",
      "\n",
      "        weak     0.6571    0.6389    0.6479        36\n",
      "      strong     0.6389    0.6571    0.6479        35\n",
      "\n",
      "    accuracy                         0.6479        71\n",
      "   macro avg     0.6480    0.6480    0.6479        71\n",
      "weighted avg     0.6481    0.6479    0.6479        71\n",
      "\n"
     ]
    }
   ],
   "source": [
    "device = torch.device('cuda' if torch.cuda.is_available() else 'cpu')\n",
    "with torch.no_grad():\n",
    "    progress = [\"/\", \"-\", \"\\\\\", \"|\", \"/\", \"-\", \"\\\\\", \"|\"]\n",
    "    module.eval().cuda()\n",
    "    true_y, pred_y = [], []\n",
    "    for i, batch_ in enumerate(module.test_dataloader()):\n",
    "        X,y = batch_\n",
    "        input_ids = X[0]\n",
    "        attention_mask = X[1]\n",
    "        print(progress[i % len(progress)], end=\"\\r\")\n",
    "        y_pred = torch.argmax(module(input_ids.to(device), attention_mask.to(device)), dim=1)\n",
    "        true_y.extend(y.cpu())\n",
    "        pred_y.extend(y_pred.cpu())\n",
    "print(\"\\n\" + \"_\" * 80)\n",
    "print(classification_report(true_y, pred_y, target_names=label2int.keys(), digits=4))"
   ]
  },
  {
   "cell_type": "code",
   "execution_count": 29,
   "metadata": {},
   "outputs": [
    {
     "data": {
      "text/plain": [
       "<AxesSubplot:>"
      ]
     },
     "execution_count": 29,
     "metadata": {},
     "output_type": "execute_result"
    },
    {
     "data": {
      "image/png": "[encoded data removed]",
      "text/plain": [
       "<Figure size 720x576 with 2 Axes>"
      ]
     },
     "metadata": {
      "needs_background": "light"
     },
     "output_type": "display_data"
    }
   ],
   "source": [
    "# plot confusion matrix\n",
    "cm = confusion_matrix(true_y, pred_y, labels=range(len(labels)))\n",
    "df_cm = pd.DataFrame(cm, index=labels, columns=labels)\n",
    "\n",
    "plt.rcParams.update({'font.size':12})\n",
    "plt.figure(figsize=(10,8))\n",
    "sns.heatmap(df_cm, annot=True, cmap='Greens', fmt='g')"
   ]
  },
  {
   "cell_type": "code",
   "execution_count": 30,
   "metadata": {},
   "outputs": [],
   "source": [
    "# save model\n",
    "# module.save_model(version=1)"
   ]
  },
  {
   "cell_type": "code",
   "execution_count": 31,
   "metadata": {},
   "outputs": [],
   "source": [
    "# load model test\n",
    "# hparams = Namespace(\n",
    "#     train_path=train_path,\n",
    "#     val_path=val_path,\n",
    "#     test_path=test_path,\n",
    "#     batch_size=10,\n",
    "#     warmup_steps=100,\n",
    "#     epochs=20,\n",
    "#     lr=2.5E-05,\n",
    "#     accumulate_grad_batches=1\n",
    "# )\n",
    "# device = torch.device('cuda:0')\n",
    "# model = TrainingModule(hparams)\n",
    "# model.model.load_state_dict(torch.load('empathy_model\\BERT_empathy_1ft_1.pt'), strict=False)\n",
    "# model.to(device)"
   ]
  },
  {
   "cell_type": "code",
   "execution_count": 32,
   "metadata": {},
   "outputs": [],
   "source": [
    "# # testing for retrieving model\n",
    "# device = torch.device('cuda' if torch.cuda.is_available() else 'cpu')\n",
    "# with torch.no_grad():\n",
    "#     progress = [\"/\", \"-\", \"\\\\\", \"|\", \"/\", \"-\", \"\\\\\", \"|\"]\n",
    "#     model.eval().cuda()\n",
    "#     true_y, pred_y = [], []\n",
    "#     for i, batch_ in enumerate(model.test_dataloader()):\n",
    "#         X,y = batch_\n",
    "#         input_ids = X[0]\n",
    "#         attention_mask = X[1]\n",
    "#         print(progress[i % len(progress)], end=\"\\r\")\n",
    "#         y_pred = torch.argmax(model(input_ids.to(device), attention_mask.to(device)), dim=1)\n",
    "#         true_y.extend(y.cpu())\n",
    "#         pred_y.extend(y_pred.cpu())\n",
    "# print(\"\\n\" + \"_\" * 80)\n",
    "# print(classification_report(true_y, pred_y, target_names=label2int.keys(), digits=4))"
   ]
  }
 ],
 "metadata": {
  "kernelspec": {
   "display_name": "Python 3.9.6 64-bit",
   "language": "python",
   "name": "python3"
  },
  "language_info": {
   "codemirror_mode": {
    "name": "ipython",
    "version": 3
   },
   "file_extension": ".py",
   "mimetype": "text/x-python",
   "name": "python",
   "nbconvert_exporter": "python",
   "pygments_lexer": "ipython3",
   "version": "3.9.6"
  },
  "orig_nbformat": 4,
  "vscode": {
   "interpreter": {
    "hash": "54bb103c3e8827112ac287ff09b16e5ca2d85540a3af0b288083619c88e41aa7"
   }
  }
 },
 "nbformat": 4,
 "nbformat_minor": 2
}
