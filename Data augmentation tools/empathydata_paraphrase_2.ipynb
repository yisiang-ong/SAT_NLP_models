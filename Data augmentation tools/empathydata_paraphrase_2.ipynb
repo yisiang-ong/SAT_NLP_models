{
 "cells": [
  {
   "cell_type": "code",
   "execution_count": 22,
   "metadata": {},
   "outputs": [
    {
     "name": "stdout",
     "output_type": "stream",
     "text": [
      "11\n"
     ]
    }
   ],
   "source": [
    "# check data\n",
    "import pandas as pd\n",
    "df1 = pd.read_csv(\"Rewriting_Questions_Statements.csv\", header =0)\n",
    "print(len(df1.iloc[:,0]))"
   ]
  },
  {
   "cell_type": "markdown",
   "metadata": {},
   "source": [
    "## Increase the dataset with paraphrasing model"
   ]
  },
  {
   "cell_type": "code",
   "execution_count": 1,
   "metadata": {},
   "outputs": [],
   "source": [
    "import torch\n",
    "from transformers import BartForConditionalGeneration, BartTokenizer\n",
    "from transformers import AutoTokenizer, AutoModelForSeq2SeqLM\n",
    "from transformers import MarianMTModel, MarianTokenizer\n",
    "from transformers import BartForConditionalGeneration, BartTokenizer"
   ]
  },
  {
   "cell_type": "code",
   "execution_count": 2,
   "metadata": {},
   "outputs": [],
   "source": [
    "# source from: https://github.com/Vamsi995/Paraphrase-Generator\n",
    "# This model is trained on the Google's PAWS Dataset.\n",
    "class ParaphraseMachine:\n",
    "    def __init__(self):\n",
    "        self.tokenizer = AutoTokenizer.from_pretrained(\"Vamsi/T5_Paraphrase_Paws\")  \n",
    "        self.model = AutoModelForSeq2SeqLM.from_pretrained(\"Vamsi/T5_Paraphrase_Paws\")\n",
    "\n",
    "        self.device = torch.device(\"cuda\" if torch.cuda.is_available() else \"cpu\")\n",
    "        self.model = self.model.to(self.device)\n",
    "        \n",
    "\n",
    "    def paraphrase(self, input_sentence, num_of_sentences = 1):\n",
    "        #encoding = self.tokenizer.encode_plus(input_sentence, padding=True, return_tensors=\"pt\")\n",
    "        encoding = self.tokenizer(input_sentence, padding=True, return_tensors=\"pt\")\n",
    "        \n",
    "        input_ids, attention_masks = encoding[\"input_ids\"].to(self.device), encoding[\"attention_mask\"].to(self.device)\n",
    "\n",
    "\n",
    "        outputs = self.model.generate(\n",
    "            input_ids=input_ids, attention_mask=attention_masks,\n",
    "            max_length=256,\n",
    "            do_sample=True,\n",
    "            top_k=120,\n",
    "            top_p=0.95,\n",
    "            early_stopping=True,\n",
    "            repetition_penalty=0.8, # adjust this as we see fit to avoid repetition in sentences\n",
    "            num_return_sequences=num_of_sentences\n",
    "        )\n",
    "\n",
    "        output_list = []\n",
    "        for output in outputs:\n",
    "            decoded_sentence = self.tokenizer.decode(output, skip_special_tokens=True, clean_up_tokenization_spaces=True)\n",
    "            output_list.append(decoded_sentence)\n",
    "\n",
    "        return output_list"
   ]
  },
  {
   "cell_type": "code",
   "execution_count": 5,
   "metadata": {},
   "outputs": [
    {
     "name": "stdout",
     "output_type": "stream",
     "text": [
      "Sometimes it's hard to think of a creative domain that you'd like to pursue, but it's all right, don't worry! We'll figure something out for you. Here are a few exercises you can do to reconnect with your childhood and ignite a creative domain.\n",
      "[\"Sometimes it's hard to think of a creative domain that you'd like to pursue, but it's all right, don't worry we'll figure something out for you : Here are a few exercises you can do to reconnect with your childhood and ignite a creative domain's inspirations.\", \"Sometimes it's hard to think of a creative field that you'd like to pursue but it's all right, don't worry, we'll figure it out for you here are a few exercises you can do to reconnect with your childhood and ignite a creative domain.\", \"Sometimes it's hard to think of a creative domain that you would like to pursue - but it's all right - don't worry we'll figure something out for you. Here are a few exercises you can do to reconnect with your childhood and ignite a creative domain.\", \"Sometimes it is hard to think of a creative domain that you would like to pursue but it is all right, don't worry - here are a few exercises to reconnect with your childhood and ignite a creative domain.\", \"Sometimes it's hard to think of a creative domain that you'd like to pursue, but it's all right, don't worry. Here are a few exercises to reconnect with your childhood and ignite a creative domain.\", \"Sometimes it's hard to think of a creative domain you'd like to pursue, but it's all right - don't worry! Here are a few exercises you can do to reconnect to childhood and start a creative domain.\", \"Sometimes it's hard to think of a creative domain you'd like to pursue but it's all good, don't worry - here are a few exercises you can do to reconnect with your childhood and ignite a creative domain.\", \"Sometimes it can be hard to think of a creative domain that you'd like to pursue - but it's all right, don't worry! We'll figure something out for you – here are a few exercises you can do to reconnect with your childhood and ignite a creative domain.\", \"Sometimes it can be difficult to think of a creative domain that you'd like to pursue, but it's all right and don't worry - we'll figure it out for you. Here are a few exercises you can do to reconnect to your childhood and ignite a creative domain.\", \"Sometimes it can be hard to think of a creative domain that you would like to pursue, but it is all right, don't worry! Here are a few exercises that you can do to connect with your childhood and ignite a creative domain.\"]\n"
     ]
    }
   ],
   "source": [
    "pm = ParaphraseMachine()\n",
    "# input_sentence = df1.iloc[10,0]\n",
    "input_sentence = \"Sometimes it's hard to think of a creative domain that you'd like to pursue, but it's all right, don't worry! We'll figure something out for you. Here are a few exercises you can do to reconnect with your childhood and ignite a creative domain.\"\n",
    "print(input_sentence)\n",
    "#input_sentence =  \"paraphrase: \" + input_sentence + \" </s>\"\n",
    "\n",
    "# generated_sentence = pm.batch_paraphrase(input_sentence, 5)\n",
    "generated_sentence = pm.paraphrase(input_sentence, num_of_sentences=10)\n",
    "print(generated_sentence)"
   ]
  }
 ],
 "metadata": {
  "kernelspec": {
   "display_name": "Python 3.9.6 64-bit",
   "language": "python",
   "name": "python3"
  },
  "language_info": {
   "codemirror_mode": {
    "name": "ipython",
    "version": 3
   },
   "file_extension": ".py",
   "mimetype": "text/x-python",
   "name": "python",
   "nbconvert_exporter": "python",
   "pygments_lexer": "ipython3",
   "version": "3.9.6"
  },
  "orig_nbformat": 4,
  "vscode": {
   "interpreter": {
    "hash": "54bb103c3e8827112ac287ff09b16e5ca2d85540a3af0b288083619c88e41aa7"
   }
  }
 },
 "nbformat": 4,
 "nbformat_minor": 2
}
